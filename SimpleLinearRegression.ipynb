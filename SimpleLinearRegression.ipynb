{
 "cells": [
  {
   "cell_type": "code",
   "execution_count": 1,
   "id": "ac2613d6",
   "metadata": {},
   "outputs": [],
   "source": [
    "import numpy as np\n",
    "import pandas as pd\n",
    "import tensorflow as tf\n",
    "import matplotlib.pyplot as plt"
   ]
  },
  {
   "cell_type": "code",
   "execution_count": 2,
   "id": "54648d36",
   "metadata": {},
   "outputs": [],
   "source": [
    "w_true = 2\n",
    "b_true  = 0.5"
   ]
  },
  {
   "cell_type": "code",
   "execution_count": 3,
   "id": "724f0c97",
   "metadata": {},
   "outputs": [],
   "source": [
    "x = np.linspace(0,3, 130)\n",
    "y = w_true * x + b_true + np.random.randn(*x.shape)*0.5"
   ]
  },
  {
   "cell_type": "code",
   "execution_count": 4,
   "id": "14b188b9",
   "metadata": {},
   "outputs": [
    {
     "data": {
      "image/png": "[encoded data removed]",
      "text/plain": [
       "<Figure size 720x576 with 1 Axes>"
      ]
     },
     "metadata": {
      "needs_background": "light"
     },
     "output_type": "display_data"
    }
   ],
   "source": [
    "plt.figure(figsize=(10,8))\n",
    "plt.scatter(x,y)\n",
    "plt.xlabel('x')\n",
    "plt.ylabel('y')\n",
    "plt.title('Training Data')\n",
    "plt.show()"
   ]
  },
  {
   "cell_type": "code",
   "execution_count": 5,
   "id": "abd5a9dd",
   "metadata": {},
   "outputs": [],
   "source": [
    "class LinearModel:\n",
    "    def __init__(self):\n",
    "        self.weight  = tf.Variable(np.random.randn(), name=\"w\")\n",
    "        self.bias = tf.Variable(np.random.randn(), name=\"b\")\n",
    "        \n",
    "    def __call__(self, x):\n",
    "        return self.weight*x + self.bias\n",
    "    \n",
    "    def loss(y, y_pred):\n",
    "        return tf.reduce_mean(tf.square(y-ypred))\n",
    "    \n",
    "    def train(linear_model,x,y, lr = 0.01):\n",
    "        with tf.GradientTape() as tape:\n",
    "            y_pred = linear_model.weight*x+ linear_model.bias\n",
    "            #y_pred = linear_model(x)\n",
    "            current_loss = loss (y, y_pred)\n",
    "        d_weight, d_bias = tape.gradient(current_loss, linear_model.weight, linear_model.bias)\n",
    "        linear_model.weight.assign_sub(lr*d_weight)\n",
    "        linear_model.bias.assign_sub(lr*d_bias)"
   ]
  },
  {
   "cell_type": "code",
   "execution_count": 6,
   "id": "ec923ce5",
   "metadata": {},
   "outputs": [
    {
     "ename": "TypeError",
     "evalue": "train() takes from 3 to 4 positional arguments but 5 were given",
     "output_type": "error",
     "traceback": [
      "\u001b[1;31m---------------------------------------------------------------------------\u001b[0m",
      "\u001b[1;31mTypeError\u001b[0m                                 Traceback (most recent call last)",
      "Input \u001b[1;32mIn [6]\u001b[0m, in \u001b[0;36m<cell line: 5>\u001b[1;34m()\u001b[0m\n\u001b[0;32m      7\u001b[0m biases\u001b[38;5;241m.\u001b[39mappend(linear_model\u001b[38;5;241m.\u001b[39mbias\u001b[38;5;241m.\u001b[39mnumpy())\n\u001b[0;32m      9\u001b[0m \u001b[38;5;66;03m#real_loss = linear_model.loss(y, linear_model(x))\u001b[39;00m\n\u001b[1;32m---> 11\u001b[0m \u001b[43mlinear_model\u001b[49m\u001b[38;5;241;43m.\u001b[39;49m\u001b[43mtrain\u001b[49m\u001b[43m(\u001b[49m\u001b[43mlinear_model\u001b[49m\u001b[43m,\u001b[49m\u001b[43mx\u001b[49m\u001b[43m,\u001b[49m\u001b[43my\u001b[49m\u001b[43m,\u001b[49m\u001b[43mlr\u001b[49m\u001b[43m)\u001b[49m\n",
      "\u001b[1;31mTypeError\u001b[0m: train() takes from 3 to 4 positional arguments but 5 were given"
     ]
    }
   ],
   "source": [
    "linear_model = LinearModel()\n",
    "weights, biases = [],[]\n",
    "epochs = 50\n",
    "lr = 0.15\n",
    "for epoch_count in range(epochs):\n",
    "    weights.append(linear_model.weight.numpy())\n",
    "    biases.append(linear_model.bias.numpy())\n",
    "    \n",
    "    #real_loss = linear_model.loss(y, linear_model(x))\n",
    "    \n",
    "    linear_model.train(linear_model,x,y,lr)\n",
    "    #print(f\"Epoch count {epoch_count} : lossval: {real_loss.numpy()}\")"
   ]
  },
  {
   "cell_type": "code",
   "execution_count": null,
   "id": "2d134e05",
   "metadata": {},
   "outputs": [],
   "source": []
  },
  {
   "cell_type": "code",
   "execution_count": null,
   "id": "d808ce1a",
   "metadata": {},
   "outputs": [],
   "source": []
  }
 ],
 "metadata": {
  "kernelspec": {
   "display_name": "Python 3 (ipykernel)",
   "language": "python",
   "name": "python3"
  },
  "language_info": {
   "codemirror_mode": {
    "name": "ipython",
    "version": 3
   },
   "file_extension": ".py",
   "mimetype": "text/x-python",
   "name": "python",
   "nbconvert_exporter": "python",
   "pygments_lexer": "ipython3",
   "version": "3.9.5"
  }
 },
 "nbformat": 4,
 "nbformat_minor": 5
}
